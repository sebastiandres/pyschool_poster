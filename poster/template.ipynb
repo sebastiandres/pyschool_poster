{
  "cells": [
    {
      "cell_type": "raw",
      "metadata": {},
      "source": [
        "---\n",
        "title: \"My Poster\"\n",
        "format:\n",
        "  html:\n",
        "    theme: cosmo\n",
        "    page-layout: full\n",
        "    css: styles.css\n",
        "    self-contained: true\n",
        "---"
      ],
      "id": "608569b4"
    },
    {
      "cell_type": "markdown",
      "metadata": {},
      "source": [
        "::: {.poster-grid}\n",
        "\n",
        "::: {.cell col-2}\n",
        "### Introduction\n",
        "\n",
        "This is the left column (2fr wide).  \n",
        "Here goes the introduction and context.\n",
        "\n",
        ":::\n",
        "\n",
        "::: {.cell col-3}\n",
        "### Methodology\n",
        "\n",
        "This middle column (3fr) is for methods, visuals, and results.  \n",
        "You can include plots here:\n"
      ],
      "id": "9ff5a720"
    },
    {
      "cell_type": "code",
      "metadata": {},
      "source": [
        "#| echo: false\n",
        "import matplotlib.pyplot as plt\n",
        "plt.plot([1, 2, 3], [3, 2, 5])\n",
        "plt.title(\"Sample Plot\")\n",
        "plt.show()"
      ],
      "id": "1badd594",
      "execution_count": null,
      "outputs": []
    },
    {
      "cell_type": "markdown",
      "metadata": {},
      "source": [
        ":::\n",
        "\n",
        "::: {.cell col-1}\n",
        "### Conclusions\n",
        "\n",
        "The final, narrow column. Great for references or QR codes.\n",
        "\n",
        ":::\n",
        "\n",
        ":::"
      ],
      "id": "4ae87712"
    }
  ],
  "metadata": {
    "kernelspec": {
      "display_name": "Python 3",
      "language": "python",
      "name": "python3"
    }
  },
  "nbformat": 4,
  "nbformat_minor": 5
}